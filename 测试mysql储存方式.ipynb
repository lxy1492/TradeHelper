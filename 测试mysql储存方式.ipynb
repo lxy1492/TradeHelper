{
 "cells": [
  {
   "cell_type": "code",
   "execution_count": 2,
   "metadata": {},
   "outputs": [],
   "source": [
    "import pymysql"
   ]
  },
  {
   "cell_type": "code",
   "execution_count": 3,
   "metadata": {},
   "outputs": [],
   "source": [
    "import time,json"
   ]
  },
  {
   "cell_type": "code",
   "execution_count": 4,
   "metadata": {},
   "outputs": [],
   "source": [
    "# mysql地址\n",
    "MySQLServerIP = \"111.230.177.71\"\n",
    "MySQLPort = 3306\n",
    "MySQLUser = \"root\"\n",
    "MySQLPasswd = \"LxyZFTT@1492\"\n",
    "\n",
    "class simpleManager():\n",
    "    def __init__(self,ip=MySQLServerIP,port=MySQLPort,user=MySQLUser,passwd=MySQLPasswd):\n",
    "        self.host = ip\n",
    "        self.port = port\n",
    "        self.user = user\n",
    "        self.passwd = passwd\n",
    "        self.cursor = None\n",
    "        self.conn = None\n",
    "        self.db = None\n",
    "        self.charset = \"utf8\"\n",
    "        self.needCommit = False\n",
    "\n",
    "    def connectMySQLServer(self,db=None,charset=None):\n",
    "        if db==None:\n",
    "            if self.db!=None:\n",
    "                if isinstance(self.db,str):\n",
    "                    db = self.db\n",
    "        if charset==None:\n",
    "            if self.charset!=None:\n",
    "                if isinstance(self.charset,str):\n",
    "                    charset = self.charset\n",
    "            else:\n",
    "                charset = \"utf8\"\n",
    "        if not isinstance(charset,str):\n",
    "            charset = \"utf8\"\n",
    "        self.conn = pymysql.connect(host=self.host,user=self.user,passwd=self.passwd,db=db,charset=charset)\n",
    "        self.cursor = self.conn.cursor()\n",
    "        self.db = db\n",
    "\n",
    "    def excute(self,sql):\n",
    "        if isinstance(sql,str):\n",
    "            if isinstance(self.cursor,pymysql.cursors.Cursor):\n",
    "                self.cursor.execute(sql)\n",
    "                self.needCommit = True\n",
    "                r = self.cursor.fetchall()\n",
    "                return r\n",
    "        return None\n",
    "\n",
    "    def useDataBase(self,db):\n",
    "        if isinstance(db,str):\n",
    "            sql = \"use \"+db+\";\"\n",
    "            r = self.excute(sql)\n",
    "            return r\n",
    "        return -1\n",
    "\n",
    "    def listDataBase(self):\n",
    "        sql = \"show databases;\"\n",
    "        r = self.excute(sql)\n",
    "        return r\n",
    "\n",
    "    def listTables(self,db=None):\n",
    "        if db==None:\n",
    "            try:\n",
    "                r = self.excute(\"show tables;\")\n",
    "                return r\n",
    "            except:\n",
    "                return -1\n",
    "        if isinstance(db,str):\n",
    "            self.useDataBase(db)\n",
    "            sql = \"show tables;\"\n",
    "            r = self.excute(sql)\n",
    "            return r\n",
    "        return -1\n",
    "\n",
    "    def commit(self):\n",
    "        self.conn.commit()\n",
    "        self.needCommit = False\n",
    "\n",
    "    def closeCursor(self):\n",
    "        try:\n",
    "            self.cursor.close()\n",
    "            return 0\n",
    "        except:\n",
    "            return -1\n",
    "\n",
    "    def closeConnection(self):\n",
    "        if self.needCommit:\n",
    "            self.commit()\n",
    "        try:\n",
    "            self.conn.close()\n",
    "            return 0\n",
    "        except:\n",
    "            return -1\n",
    "\n",
    "    def close(self):\n",
    "        print(\"close cursor:\",self.closeCursor())\n",
    "        print(\"close connection:\",self.closeConnection())\n",
    "\n",
    "    def getAllDataFromTables(self,table,db=None):\n",
    "        if db!=None:\n",
    "            if isinstance(db,str):\n",
    "                self.useDataBase(db)\n",
    "        sql = \"select * from \"+table+\";\"\n",
    "        r = self.excute(sql)\n",
    "        return r\n",
    "\n",
    "    def dropTables(self,table,db=None):\n",
    "        if db!=None:\n",
    "            self.useDataBase(db)\n",
    "        sql = \"DROP TABLE \"+table+\";\"\n",
    "        return self.excute(sql)\n",
    "\n",
    "    def dropDataBase(self,db):\n",
    "        sql = \"drop database \"+db+\";\"\n",
    "        return self.excute(sql)\n",
    "\n",
    "\n",
    "    def getValue(self,table,object_=None,where=None,db=None):\n",
    "        if db!=None:\n",
    "            self.useDataBase(db)\n",
    "        selectTable = \"\"\n",
    "        if isinstance(table,list):\n",
    "            for each in table:\n",
    "                if isinstance(each,str):\n",
    "                    selectTable += each+\",\"\n",
    "            selectTable = selectTable[:-1]\n",
    "        else:\n",
    "            selectTable = table\n",
    "        sql = \"SELECT \"\n",
    "        if object_!=None:\n",
    "            if isinstance(object_,str):\n",
    "                sql += object_+\" from \"+selectTable\n",
    "            else:\n",
    "                sql += \"* from \"+selectTable\n",
    "        else:\n",
    "            sql += \"* from \"+selectTable\n",
    "        if where!=None:\n",
    "            sql += \" WHERE \"+where+\";\"\n",
    "        else:\n",
    "            sql += \";\"\n",
    "        r = self.excute(sql)\n",
    "        return r\n",
    "\n",
    "    def createDataBase(self,db):\n",
    "        if isinstance(db,str):\n",
    "            sql = \"CREATE DATABASE \"+db\n",
    "            return self.excute(sql)\n",
    "        return -1\n",
    "\n",
    "    def judgeDtataBaseExist(self,db):\n",
    "        r = self.listDataBase()\n",
    "        for each in r:\n",
    "            if db in each:\n",
    "                return True\n",
    "        return False\n",
    "\n",
    "    def judgeTableExist(self,table,db=None):\n",
    "        r = self.listTables(db)\n",
    "        for each in r:\n",
    "            if table in each:\n",
    "                return True\n",
    "        return False\n",
    "\n",
    "\n",
    "class mySQL_Server(simpleManager):\n",
    "    def uploadData(self,data):\n",
    "        stamp = data[\"stamp\"]\n",
    "        data = data[\"data\"]\n",
    "        jsonData = json.dumps(data)\n",
    "        # jsonData = jsonData.replace(\"\\\\\",\"\\\\\\\\\")\n",
    "        # jsonData = jsonData.replace(\"\\\\\",\"\\\\\\\\\")\n",
    "        tableName = self.getTableName(stamp)\n",
    "        if not self.judgeTableExist(tableName):\n",
    "            self.createNewTable(name=tableName)\n",
    "        sql = \"INSERT INTO {0} (getTime,jsonData)VALUES ({1},{2})\".format(tableName,str(stamp),jsonData)\n",
    "        self.excute(sql)\n",
    "\n",
    "    def createNewTable(self,name):\n",
    "        # sql = \"\"\"CREATE TABLE IF NOT EXISTS {0}(\n",
    "        # getTime FLOAT ,\n",
    "        # jsonData LONGTEXT,\n",
    "        # PRIMARY KEY(getTime),\n",
    "        # )\"\"\".format(name)\n",
    "\n",
    "        sql = \"\"\"CREATE TABLE IF NOT EXISTS {0}(\n",
    "            getTime FLOAT NOT NULL,\n",
    "            JsonData LONGTEXT,\n",
    "            PRIMARY KEY(getTime)\n",
    "            );\"\"\".format(name)\n",
    "\n",
    "        self.excute(sql)\n",
    "\n",
    "    def init(self):\n",
    "        self.db = \"GoldSliver\"\n",
    "        self.connectMySQLServer(db=self.db)\n",
    "\n",
    "    def getTableName(self,timeStamp=None):\n",
    "        if timeStamp==None:\n",
    "            timeStamp = time.time()\n",
    "        t = time.localtime(timeStamp)\n",
    "        year = t.tm_year\n",
    "        mon = t.tm_mon\n",
    "        day = t.tm_mday\n",
    "        hour = t.tm_hour\n",
    "        min_ = t.tm_min\n",
    "        sec = t.tm_sec\n",
    "        name = str(year)\n",
    "        if mon<10:\n",
    "            name = name+\"0\"+str(mon)\n",
    "        else:\n",
    "            name = name+str(mon)\n",
    "        if day<10:\n",
    "            name = name+\"0\"+str(day)\n",
    "        else:\n",
    "            name = name+str(day)\n",
    "        name = \"tb\"+name\n",
    "        return name"
   ]
  },
  {
   "cell_type": "code",
   "execution_count": 14,
   "metadata": {},
   "outputs": [],
   "source": [
    "mysql_server = mySQL_Server()"
   ]
  },
  {
   "cell_type": "code",
   "execution_count": 15,
   "metadata": {},
   "outputs": [],
   "source": [
    "mysql_server.connectMySQLServer()"
   ]
  },
  {
   "cell_type": "code",
   "execution_count": 16,
   "metadata": {},
   "outputs": [
    {
     "name": "stdout",
     "output_type": "stream",
     "text": [
      "(('GoldSliver',), ('TradeHelper',), ('information_schema',), ('mysql',), ('performance_schema',), ('sys',))\n"
     ]
    }
   ],
   "source": [
    "print(mysql_server.listDataBase())"
   ]
  },
  {
   "cell_type": "code",
   "execution_count": 34,
   "metadata": {},
   "outputs": [
    {
     "data": {
      "text/plain": [
       "()"
      ]
     },
     "execution_count": 34,
     "metadata": {},
     "output_type": "execute_result"
    }
   ],
   "source": [
    "mysql_server.useDataBase(\"TradeHelper\")"
   ]
  },
  {
   "cell_type": "code",
   "execution_count": 35,
   "metadata": {},
   "outputs": [],
   "source": [
    "sql = \"\"\"CREAT TABLE IF NOT EXISTS 'test 2020_04_16'(\n",
    "    'name' CHAR[20] NOT NULL,\n",
    "    'date' CHAR[20] NOT NULL,\n",
    "    'time' CHAR[20] NOT NULL,\n",
    "    'stamp' FLOAT NOT NULL,\n",
    "    'value' FLOAT,\n",
    "    'valuetype' CHAR[20],\n",
    "    'originalData' LONGTEXT,\n",
    ")ENGINE=InnoDB DEFAULT CHARSET=utf8\"\"\""
   ]
  },
  {
   "cell_type": "code",
   "execution_count": 36,
   "metadata": {},
   "outputs": [
    {
     "ename": "ProgrammingError",
     "evalue": "(1064, \"You have an error in your SQL syntax; check the manual that corresponds to your MySQL server version for the right syntax to use near 'CREAT TABLE IF NOT EXISTS 'test 2020_04_16'(\\n    'name' CHAR[20] NOT NULL,\\n    '' at line 1\")",
     "output_type": "error",
     "traceback": [
      "\u001b[1;31m---------------------------------------------------------------------------\u001b[0m",
      "\u001b[1;31mProgrammingError\u001b[0m                          Traceback (most recent call last)",
      "\u001b[1;32m<ipython-input-36-d9bd26210a57>\u001b[0m in \u001b[0;36m<module>\u001b[1;34m\u001b[0m\n\u001b[1;32m----> 1\u001b[1;33m \u001b[0mr\u001b[0m \u001b[1;33m=\u001b[0m \u001b[0mmysql_server\u001b[0m\u001b[1;33m.\u001b[0m\u001b[0mexcute\u001b[0m\u001b[1;33m(\u001b[0m\u001b[0msql\u001b[0m\u001b[1;33m)\u001b[0m\u001b[1;33m\u001b[0m\u001b[1;33m\u001b[0m\u001b[0m\n\u001b[0m",
      "\u001b[1;32m<ipython-input-4-2c74c2e8f5d1>\u001b[0m in \u001b[0;36mexcute\u001b[1;34m(self, sql)\u001b[0m\n\u001b[0;32m     37\u001b[0m         \u001b[1;32mif\u001b[0m \u001b[0misinstance\u001b[0m\u001b[1;33m(\u001b[0m\u001b[0msql\u001b[0m\u001b[1;33m,\u001b[0m\u001b[0mstr\u001b[0m\u001b[1;33m)\u001b[0m\u001b[1;33m:\u001b[0m\u001b[1;33m\u001b[0m\u001b[1;33m\u001b[0m\u001b[0m\n\u001b[0;32m     38\u001b[0m             \u001b[1;32mif\u001b[0m \u001b[0misinstance\u001b[0m\u001b[1;33m(\u001b[0m\u001b[0mself\u001b[0m\u001b[1;33m.\u001b[0m\u001b[0mcursor\u001b[0m\u001b[1;33m,\u001b[0m\u001b[0mpymysql\u001b[0m\u001b[1;33m.\u001b[0m\u001b[0mcursors\u001b[0m\u001b[1;33m.\u001b[0m\u001b[0mCursor\u001b[0m\u001b[1;33m)\u001b[0m\u001b[1;33m:\u001b[0m\u001b[1;33m\u001b[0m\u001b[1;33m\u001b[0m\u001b[0m\n\u001b[1;32m---> 39\u001b[1;33m                 \u001b[0mself\u001b[0m\u001b[1;33m.\u001b[0m\u001b[0mcursor\u001b[0m\u001b[1;33m.\u001b[0m\u001b[0mexecute\u001b[0m\u001b[1;33m(\u001b[0m\u001b[0msql\u001b[0m\u001b[1;33m)\u001b[0m\u001b[1;33m\u001b[0m\u001b[1;33m\u001b[0m\u001b[0m\n\u001b[0m\u001b[0;32m     40\u001b[0m                 \u001b[0mself\u001b[0m\u001b[1;33m.\u001b[0m\u001b[0mneedCommit\u001b[0m \u001b[1;33m=\u001b[0m \u001b[1;32mTrue\u001b[0m\u001b[1;33m\u001b[0m\u001b[1;33m\u001b[0m\u001b[0m\n\u001b[0;32m     41\u001b[0m                 \u001b[0mr\u001b[0m \u001b[1;33m=\u001b[0m \u001b[0mself\u001b[0m\u001b[1;33m.\u001b[0m\u001b[0mcursor\u001b[0m\u001b[1;33m.\u001b[0m\u001b[0mfetchall\u001b[0m\u001b[1;33m(\u001b[0m\u001b[1;33m)\u001b[0m\u001b[1;33m\u001b[0m\u001b[1;33m\u001b[0m\u001b[0m\n",
      "\u001b[1;32me:\\python37\\lib\\site-packages\\pymysql\\cursors.py\u001b[0m in \u001b[0;36mexecute\u001b[1;34m(self, query, args)\u001b[0m\n\u001b[0;32m    168\u001b[0m         \u001b[0mquery\u001b[0m \u001b[1;33m=\u001b[0m \u001b[0mself\u001b[0m\u001b[1;33m.\u001b[0m\u001b[0mmogrify\u001b[0m\u001b[1;33m(\u001b[0m\u001b[0mquery\u001b[0m\u001b[1;33m,\u001b[0m \u001b[0margs\u001b[0m\u001b[1;33m)\u001b[0m\u001b[1;33m\u001b[0m\u001b[1;33m\u001b[0m\u001b[0m\n\u001b[0;32m    169\u001b[0m \u001b[1;33m\u001b[0m\u001b[0m\n\u001b[1;32m--> 170\u001b[1;33m         \u001b[0mresult\u001b[0m \u001b[1;33m=\u001b[0m \u001b[0mself\u001b[0m\u001b[1;33m.\u001b[0m\u001b[0m_query\u001b[0m\u001b[1;33m(\u001b[0m\u001b[0mquery\u001b[0m\u001b[1;33m)\u001b[0m\u001b[1;33m\u001b[0m\u001b[1;33m\u001b[0m\u001b[0m\n\u001b[0m\u001b[0;32m    171\u001b[0m         \u001b[0mself\u001b[0m\u001b[1;33m.\u001b[0m\u001b[0m_executed\u001b[0m \u001b[1;33m=\u001b[0m \u001b[0mquery\u001b[0m\u001b[1;33m\u001b[0m\u001b[1;33m\u001b[0m\u001b[0m\n\u001b[0;32m    172\u001b[0m         \u001b[1;32mreturn\u001b[0m \u001b[0mresult\u001b[0m\u001b[1;33m\u001b[0m\u001b[1;33m\u001b[0m\u001b[0m\n",
      "\u001b[1;32me:\\python37\\lib\\site-packages\\pymysql\\cursors.py\u001b[0m in \u001b[0;36m_query\u001b[1;34m(self, q)\u001b[0m\n\u001b[0;32m    326\u001b[0m         \u001b[0mself\u001b[0m\u001b[1;33m.\u001b[0m\u001b[0m_last_executed\u001b[0m \u001b[1;33m=\u001b[0m \u001b[0mq\u001b[0m\u001b[1;33m\u001b[0m\u001b[1;33m\u001b[0m\u001b[0m\n\u001b[0;32m    327\u001b[0m         \u001b[0mself\u001b[0m\u001b[1;33m.\u001b[0m\u001b[0m_clear_result\u001b[0m\u001b[1;33m(\u001b[0m\u001b[1;33m)\u001b[0m\u001b[1;33m\u001b[0m\u001b[1;33m\u001b[0m\u001b[0m\n\u001b[1;32m--> 328\u001b[1;33m         \u001b[0mconn\u001b[0m\u001b[1;33m.\u001b[0m\u001b[0mquery\u001b[0m\u001b[1;33m(\u001b[0m\u001b[0mq\u001b[0m\u001b[1;33m)\u001b[0m\u001b[1;33m\u001b[0m\u001b[1;33m\u001b[0m\u001b[0m\n\u001b[0m\u001b[0;32m    329\u001b[0m         \u001b[0mself\u001b[0m\u001b[1;33m.\u001b[0m\u001b[0m_do_get_result\u001b[0m\u001b[1;33m(\u001b[0m\u001b[1;33m)\u001b[0m\u001b[1;33m\u001b[0m\u001b[1;33m\u001b[0m\u001b[0m\n\u001b[0;32m    330\u001b[0m         \u001b[1;32mreturn\u001b[0m \u001b[0mself\u001b[0m\u001b[1;33m.\u001b[0m\u001b[0mrowcount\u001b[0m\u001b[1;33m\u001b[0m\u001b[1;33m\u001b[0m\u001b[0m\n",
      "\u001b[1;32me:\\python37\\lib\\site-packages\\pymysql\\connections.py\u001b[0m in \u001b[0;36mquery\u001b[1;34m(self, sql, unbuffered)\u001b[0m\n\u001b[0;32m    515\u001b[0m                 \u001b[0msql\u001b[0m \u001b[1;33m=\u001b[0m \u001b[0msql\u001b[0m\u001b[1;33m.\u001b[0m\u001b[0mencode\u001b[0m\u001b[1;33m(\u001b[0m\u001b[0mself\u001b[0m\u001b[1;33m.\u001b[0m\u001b[0mencoding\u001b[0m\u001b[1;33m,\u001b[0m \u001b[1;34m'surrogateescape'\u001b[0m\u001b[1;33m)\u001b[0m\u001b[1;33m\u001b[0m\u001b[1;33m\u001b[0m\u001b[0m\n\u001b[0;32m    516\u001b[0m         \u001b[0mself\u001b[0m\u001b[1;33m.\u001b[0m\u001b[0m_execute_command\u001b[0m\u001b[1;33m(\u001b[0m\u001b[0mCOMMAND\u001b[0m\u001b[1;33m.\u001b[0m\u001b[0mCOM_QUERY\u001b[0m\u001b[1;33m,\u001b[0m \u001b[0msql\u001b[0m\u001b[1;33m)\u001b[0m\u001b[1;33m\u001b[0m\u001b[1;33m\u001b[0m\u001b[0m\n\u001b[1;32m--> 517\u001b[1;33m         \u001b[0mself\u001b[0m\u001b[1;33m.\u001b[0m\u001b[0m_affected_rows\u001b[0m \u001b[1;33m=\u001b[0m \u001b[0mself\u001b[0m\u001b[1;33m.\u001b[0m\u001b[0m_read_query_result\u001b[0m\u001b[1;33m(\u001b[0m\u001b[0munbuffered\u001b[0m\u001b[1;33m=\u001b[0m\u001b[0munbuffered\u001b[0m\u001b[1;33m)\u001b[0m\u001b[1;33m\u001b[0m\u001b[1;33m\u001b[0m\u001b[0m\n\u001b[0m\u001b[0;32m    518\u001b[0m         \u001b[1;32mreturn\u001b[0m \u001b[0mself\u001b[0m\u001b[1;33m.\u001b[0m\u001b[0m_affected_rows\u001b[0m\u001b[1;33m\u001b[0m\u001b[1;33m\u001b[0m\u001b[0m\n\u001b[0;32m    519\u001b[0m \u001b[1;33m\u001b[0m\u001b[0m\n",
      "\u001b[1;32me:\\python37\\lib\\site-packages\\pymysql\\connections.py\u001b[0m in \u001b[0;36m_read_query_result\u001b[1;34m(self, unbuffered)\u001b[0m\n\u001b[0;32m    730\u001b[0m         \u001b[1;32melse\u001b[0m\u001b[1;33m:\u001b[0m\u001b[1;33m\u001b[0m\u001b[1;33m\u001b[0m\u001b[0m\n\u001b[0;32m    731\u001b[0m             \u001b[0mresult\u001b[0m \u001b[1;33m=\u001b[0m \u001b[0mMySQLResult\u001b[0m\u001b[1;33m(\u001b[0m\u001b[0mself\u001b[0m\u001b[1;33m)\u001b[0m\u001b[1;33m\u001b[0m\u001b[1;33m\u001b[0m\u001b[0m\n\u001b[1;32m--> 732\u001b[1;33m             \u001b[0mresult\u001b[0m\u001b[1;33m.\u001b[0m\u001b[0mread\u001b[0m\u001b[1;33m(\u001b[0m\u001b[1;33m)\u001b[0m\u001b[1;33m\u001b[0m\u001b[1;33m\u001b[0m\u001b[0m\n\u001b[0m\u001b[0;32m    733\u001b[0m         \u001b[0mself\u001b[0m\u001b[1;33m.\u001b[0m\u001b[0m_result\u001b[0m \u001b[1;33m=\u001b[0m \u001b[0mresult\u001b[0m\u001b[1;33m\u001b[0m\u001b[1;33m\u001b[0m\u001b[0m\n\u001b[0;32m    734\u001b[0m         \u001b[1;32mif\u001b[0m \u001b[0mresult\u001b[0m\u001b[1;33m.\u001b[0m\u001b[0mserver_status\u001b[0m \u001b[1;32mis\u001b[0m \u001b[1;32mnot\u001b[0m \u001b[1;32mNone\u001b[0m\u001b[1;33m:\u001b[0m\u001b[1;33m\u001b[0m\u001b[1;33m\u001b[0m\u001b[0m\n",
      "\u001b[1;32me:\\python37\\lib\\site-packages\\pymysql\\connections.py\u001b[0m in \u001b[0;36mread\u001b[1;34m(self)\u001b[0m\n\u001b[0;32m   1073\u001b[0m     \u001b[1;32mdef\u001b[0m \u001b[0mread\u001b[0m\u001b[1;33m(\u001b[0m\u001b[0mself\u001b[0m\u001b[1;33m)\u001b[0m\u001b[1;33m:\u001b[0m\u001b[1;33m\u001b[0m\u001b[1;33m\u001b[0m\u001b[0m\n\u001b[0;32m   1074\u001b[0m         \u001b[1;32mtry\u001b[0m\u001b[1;33m:\u001b[0m\u001b[1;33m\u001b[0m\u001b[1;33m\u001b[0m\u001b[0m\n\u001b[1;32m-> 1075\u001b[1;33m             \u001b[0mfirst_packet\u001b[0m \u001b[1;33m=\u001b[0m \u001b[0mself\u001b[0m\u001b[1;33m.\u001b[0m\u001b[0mconnection\u001b[0m\u001b[1;33m.\u001b[0m\u001b[0m_read_packet\u001b[0m\u001b[1;33m(\u001b[0m\u001b[1;33m)\u001b[0m\u001b[1;33m\u001b[0m\u001b[1;33m\u001b[0m\u001b[0m\n\u001b[0m\u001b[0;32m   1076\u001b[0m \u001b[1;33m\u001b[0m\u001b[0m\n\u001b[0;32m   1077\u001b[0m             \u001b[1;32mif\u001b[0m \u001b[0mfirst_packet\u001b[0m\u001b[1;33m.\u001b[0m\u001b[0mis_ok_packet\u001b[0m\u001b[1;33m(\u001b[0m\u001b[1;33m)\u001b[0m\u001b[1;33m:\u001b[0m\u001b[1;33m\u001b[0m\u001b[1;33m\u001b[0m\u001b[0m\n",
      "\u001b[1;32me:\\python37\\lib\\site-packages\\pymysql\\connections.py\u001b[0m in \u001b[0;36m_read_packet\u001b[1;34m(self, packet_type)\u001b[0m\n\u001b[0;32m    682\u001b[0m \u001b[1;33m\u001b[0m\u001b[0m\n\u001b[0;32m    683\u001b[0m         \u001b[0mpacket\u001b[0m \u001b[1;33m=\u001b[0m \u001b[0mpacket_type\u001b[0m\u001b[1;33m(\u001b[0m\u001b[0mbuff\u001b[0m\u001b[1;33m,\u001b[0m \u001b[0mself\u001b[0m\u001b[1;33m.\u001b[0m\u001b[0mencoding\u001b[0m\u001b[1;33m)\u001b[0m\u001b[1;33m\u001b[0m\u001b[1;33m\u001b[0m\u001b[0m\n\u001b[1;32m--> 684\u001b[1;33m         \u001b[0mpacket\u001b[0m\u001b[1;33m.\u001b[0m\u001b[0mcheck_error\u001b[0m\u001b[1;33m(\u001b[0m\u001b[1;33m)\u001b[0m\u001b[1;33m\u001b[0m\u001b[1;33m\u001b[0m\u001b[0m\n\u001b[0m\u001b[0;32m    685\u001b[0m         \u001b[1;32mreturn\u001b[0m \u001b[0mpacket\u001b[0m\u001b[1;33m\u001b[0m\u001b[1;33m\u001b[0m\u001b[0m\n\u001b[0;32m    686\u001b[0m \u001b[1;33m\u001b[0m\u001b[0m\n",
      "\u001b[1;32me:\\python37\\lib\\site-packages\\pymysql\\protocol.py\u001b[0m in \u001b[0;36mcheck_error\u001b[1;34m(self)\u001b[0m\n\u001b[0;32m    218\u001b[0m             \u001b[0merrno\u001b[0m \u001b[1;33m=\u001b[0m \u001b[0mself\u001b[0m\u001b[1;33m.\u001b[0m\u001b[0mread_uint16\u001b[0m\u001b[1;33m(\u001b[0m\u001b[1;33m)\u001b[0m\u001b[1;33m\u001b[0m\u001b[1;33m\u001b[0m\u001b[0m\n\u001b[0;32m    219\u001b[0m             \u001b[1;32mif\u001b[0m \u001b[0mDEBUG\u001b[0m\u001b[1;33m:\u001b[0m \u001b[0mprint\u001b[0m\u001b[1;33m(\u001b[0m\u001b[1;34m\"errno =\"\u001b[0m\u001b[1;33m,\u001b[0m \u001b[0merrno\u001b[0m\u001b[1;33m)\u001b[0m\u001b[1;33m\u001b[0m\u001b[1;33m\u001b[0m\u001b[0m\n\u001b[1;32m--> 220\u001b[1;33m             \u001b[0merr\u001b[0m\u001b[1;33m.\u001b[0m\u001b[0mraise_mysql_exception\u001b[0m\u001b[1;33m(\u001b[0m\u001b[0mself\u001b[0m\u001b[1;33m.\u001b[0m\u001b[0m_data\u001b[0m\u001b[1;33m)\u001b[0m\u001b[1;33m\u001b[0m\u001b[1;33m\u001b[0m\u001b[0m\n\u001b[0m\u001b[0;32m    221\u001b[0m \u001b[1;33m\u001b[0m\u001b[0m\n\u001b[0;32m    222\u001b[0m     \u001b[1;32mdef\u001b[0m \u001b[0mdump\u001b[0m\u001b[1;33m(\u001b[0m\u001b[0mself\u001b[0m\u001b[1;33m)\u001b[0m\u001b[1;33m:\u001b[0m\u001b[1;33m\u001b[0m\u001b[1;33m\u001b[0m\u001b[0m\n",
      "\u001b[1;32me:\\python37\\lib\\site-packages\\pymysql\\err.py\u001b[0m in \u001b[0;36mraise_mysql_exception\u001b[1;34m(data)\u001b[0m\n\u001b[0;32m    107\u001b[0m         \u001b[0merrval\u001b[0m \u001b[1;33m=\u001b[0m \u001b[0mdata\u001b[0m\u001b[1;33m[\u001b[0m\u001b[1;36m3\u001b[0m\u001b[1;33m:\u001b[0m\u001b[1;33m]\u001b[0m\u001b[1;33m.\u001b[0m\u001b[0mdecode\u001b[0m\u001b[1;33m(\u001b[0m\u001b[1;34m'utf-8'\u001b[0m\u001b[1;33m,\u001b[0m \u001b[1;34m'replace'\u001b[0m\u001b[1;33m)\u001b[0m\u001b[1;33m\u001b[0m\u001b[1;33m\u001b[0m\u001b[0m\n\u001b[0;32m    108\u001b[0m     \u001b[0merrorclass\u001b[0m \u001b[1;33m=\u001b[0m \u001b[0merror_map\u001b[0m\u001b[1;33m.\u001b[0m\u001b[0mget\u001b[0m\u001b[1;33m(\u001b[0m\u001b[0merrno\u001b[0m\u001b[1;33m,\u001b[0m \u001b[0mInternalError\u001b[0m\u001b[1;33m)\u001b[0m\u001b[1;33m\u001b[0m\u001b[1;33m\u001b[0m\u001b[0m\n\u001b[1;32m--> 109\u001b[1;33m     \u001b[1;32mraise\u001b[0m \u001b[0merrorclass\u001b[0m\u001b[1;33m(\u001b[0m\u001b[0merrno\u001b[0m\u001b[1;33m,\u001b[0m \u001b[0merrval\u001b[0m\u001b[1;33m)\u001b[0m\u001b[1;33m\u001b[0m\u001b[1;33m\u001b[0m\u001b[0m\n\u001b[0m",
      "\u001b[1;31mProgrammingError\u001b[0m: (1064, \"You have an error in your SQL syntax; check the manual that corresponds to your MySQL server version for the right syntax to use near 'CREAT TABLE IF NOT EXISTS 'test 2020_04_16'(\\n    'name' CHAR[20] NOT NULL,\\n    '' at line 1\")"
     ]
    }
   ],
   "source": [
    "r = mysql_server.excute(sql)"
   ]
  },
  {
   "cell_type": "code",
   "execution_count": 33,
   "metadata": {},
   "outputs": [
    {
     "ename": "NameError",
     "evalue": "name 'r' is not defined",
     "output_type": "error",
     "traceback": [
      "\u001b[1;31m---------------------------------------------------------------------------\u001b[0m",
      "\u001b[1;31mNameError\u001b[0m                                 Traceback (most recent call last)",
      "\u001b[1;32m<ipython-input-33-c6b8a6a9416b>\u001b[0m in \u001b[0;36m<module>\u001b[1;34m\u001b[0m\n\u001b[1;32m----> 1\u001b[1;33m \u001b[0mprint\u001b[0m\u001b[1;33m(\u001b[0m\u001b[0mr\u001b[0m\u001b[1;33m)\u001b[0m\u001b[1;33m\u001b[0m\u001b[1;33m\u001b[0m\u001b[0m\n\u001b[0m",
      "\u001b[1;31mNameError\u001b[0m: name 'r' is not defined"
     ]
    }
   ],
   "source": [
    "print(r)"
   ]
  },
  {
   "cell_type": "code",
   "execution_count": null,
   "metadata": {},
   "outputs": [],
   "source": []
  }
 ],
 "metadata": {
  "kernelspec": {
   "display_name": "Python 3",
   "language": "python",
   "name": "python3"
  },
  "language_info": {
   "codemirror_mode": {
    "name": "ipython",
    "version": 3
   },
   "file_extension": ".py",
   "mimetype": "text/x-python",
   "name": "python",
   "nbconvert_exporter": "python",
   "pygments_lexer": "ipython3",
   "version": "3.7.3"
  }
 },
 "nbformat": 4,
 "nbformat_minor": 2
}
