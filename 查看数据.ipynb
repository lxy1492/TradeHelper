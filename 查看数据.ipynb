{
 "cells": [
  {
   "cell_type": "code",
   "execution_count": 10,
   "metadata": {},
   "outputs": [],
   "source": [
    "import os,json,pickle,base64\n",
    "from Moudle.dataType import DataType"
   ]
  },
  {
   "cell_type": "code",
   "execution_count": 2,
   "metadata": {},
   "outputs": [],
   "source": [
    "DataDIR = \"./Tools/CloudData/\""
   ]
  },
  {
   "cell_type": "code",
   "execution_count": 4,
   "metadata": {},
   "outputs": [],
   "source": [
    "AgTDFiles = []\n",
    "for each in os.listdir(DataDIR):\n",
    "    if each.split(\".\")[-1] == \"tbs\":\n",
    "        if \"Ag(T+D)\" in each:\n",
    "            AgTDFiles.append(each)"
   ]
  },
  {
   "cell_type": "code",
   "execution_count": 6,
   "metadata": {},
   "outputs": [],
   "source": [
    "data = []\n",
    "for each in AgTDFiles:\n",
    "    path = os.path.join(DataDIR,each).replace(\"\\\\\",\"/\")\n",
    "    with open(path,\"r\") as f:\n",
    "        for each in f.read().split(\"\\n\"):\n",
    "            if each!=\"\":\n",
    "                data.append(json.loads(each))"
   ]
  },
  {
   "cell_type": "code",
   "execution_count": 11,
   "metadata": {},
   "outputs": [],
   "source": [
    "AgTD = []\n",
    "for each in data:\n",
    "    AgTD.append(pickle.loads(base64.b64decode(each[\"data\"])))"
   ]
  },
  {
   "cell_type": "code",
   "execution_count": 12,
   "metadata": {},
   "outputs": [
    {
     "name": "stdout",
     "output_type": "stream",
     "text": [
      "Name:Ag(T+D);\n",
      "value:3695.0 type:最新价格;\n",
      "Date:2020-04-30 time:15:18:13;\n",
      "info:{\"updown\": -27.0, \"updownrate\": \"-0.74%\", \"high\": 3700.0, \"low\": 3650.0, \"lastday\": 3668.0, \"today\": 3676.0, \"date\": \"2020-04-30 15:18:07\"};\n",
      "source:None\n"
     ]
    }
   ],
   "source": [
    "print(AgTD[-1])"
   ]
  },
  {
   "cell_type": "code",
   "execution_count": 13,
   "metadata": {},
   "outputs": [],
   "source": [
    "path = \"../FileWebDIR/TradeHelperDataBase/Original/Ag(T+D) 2020_04_30.tbs\""
   ]
  },
  {
   "cell_type": "code",
   "execution_count": 14,
   "metadata": {},
   "outputs": [],
   "source": [
    "data = []\n",
    "with open(path,\"r\") as f:\n",
    "    for each in f.read().split(\"\\n\"):\n",
    "        if each!=\"\":\n",
    "            data.append(json.loads(each))"
   ]
  },
  {
   "cell_type": "code",
   "execution_count": 16,
   "metadata": {},
   "outputs": [],
   "source": [
    "AgTD = pickle.loads(base64.b64decode(data[-1][\"data\"]))"
   ]
  },
  {
   "cell_type": "code",
   "execution_count": 17,
   "metadata": {},
   "outputs": [
    {
     "name": "stdout",
     "output_type": "stream",
     "text": [
      "Name:Ag(T+D);\n",
      "value:3703.0/kg type:最新价格;\n",
      "Date:2020-04-30 time:20:51:54;\n",
      "info:{\"updown\": -35.0, \"updownrate\": \"-0.95%\", \"high\": 3704.0, \"low\": 3650.0, \"lastday\": 3668.0, \"today\": 3676.0, \"date\": \"2020-04-30 15:34:48\", \"ozprice\": 14.815095335708945, \"premium\": -0.07490466429105602, \"premiumLine\": 14.89};\n",
      "source:None\n"
     ]
    }
   ],
   "source": [
    "print(AgTD)"
   ]
  },
  {
   "cell_type": "code",
   "execution_count": null,
   "metadata": {},
   "outputs": [],
   "source": []
  }
 ],
 "metadata": {
  "kernelspec": {
   "display_name": "Python 3",
   "language": "python",
   "name": "python3"
  },
  "language_info": {
   "codemirror_mode": {
    "name": "ipython",
    "version": 3
   },
   "file_extension": ".py",
   "mimetype": "text/x-python",
   "name": "python",
   "nbconvert_exporter": "python",
   "pygments_lexer": "ipython3",
   "version": "3.7.3"
  }
 },
 "nbformat": 4,
 "nbformat_minor": 2
}
