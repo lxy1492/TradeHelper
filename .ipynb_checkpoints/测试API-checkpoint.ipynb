{
 "cells": [
  {
   "cell_type": "code",
   "execution_count": 1,
   "metadata": {},
   "outputs": [],
   "source": [
    "import json"
   ]
  },
  {
   "cell_type": "code",
   "execution_count": 2,
   "metadata": {},
   "outputs": [],
   "source": [
    "import socket"
   ]
  },
  {
   "cell_type": "code",
   "execution_count": 3,
   "metadata": {},
   "outputs": [],
   "source": [
    "from Moudle.dataType import DataType"
   ]
  },
  {
   "cell_type": "code",
   "execution_count": 4,
   "metadata": {},
   "outputs": [],
   "source": [
    "import pickle"
   ]
  },
  {
   "cell_type": "code",
   "execution_count": 5,
   "metadata": {},
   "outputs": [],
   "source": [
    "ip = socket.gethostbyname(socket.gethostname())\n",
    "port = 8001"
   ]
  },
  {
   "cell_type": "code",
   "execution_count": 6,
   "metadata": {},
   "outputs": [],
   "source": [
    "c = socket.socket(socket.AF_INET, socket.SOCK_STREAM)"
   ]
  },
  {
   "cell_type": "code",
   "execution_count": 7,
   "metadata": {},
   "outputs": [
    {
     "ename": "ConnectionRefusedError",
     "evalue": "[WinError 10061] 由于目标计算机积极拒绝，无法连接。",
     "output_type": "error",
     "traceback": [
      "\u001b[1;31m---------------------------------------------------------------------------\u001b[0m",
      "\u001b[1;31mConnectionRefusedError\u001b[0m                    Traceback (most recent call last)",
      "\u001b[1;32m<ipython-input-7-679480d94827>\u001b[0m in \u001b[0;36m<module>\u001b[1;34m\u001b[0m\n\u001b[1;32m----> 1\u001b[1;33m \u001b[0mc\u001b[0m\u001b[1;33m.\u001b[0m\u001b[0mconnect\u001b[0m\u001b[1;33m(\u001b[0m\u001b[1;33m(\u001b[0m\u001b[0mip\u001b[0m\u001b[1;33m,\u001b[0m\u001b[0mport\u001b[0m\u001b[1;33m)\u001b[0m\u001b[1;33m)\u001b[0m\u001b[1;33m\u001b[0m\u001b[1;33m\u001b[0m\u001b[0m\n\u001b[0m",
      "\u001b[1;31mConnectionRefusedError\u001b[0m: [WinError 10061] 由于目标计算机积极拒绝，无法连接。"
     ]
    }
   ],
   "source": [
    "c.connect((ip,port))"
   ]
  },
  {
   "cell_type": "code",
   "execution_count": 8,
   "metadata": {},
   "outputs": [
    {
     "name": "stdout",
     "output_type": "stream",
     "text": [
      "this is TradeHelper\n"
     ]
    }
   ],
   "source": [
    "print(c.recv(1024).decode())"
   ]
  },
  {
   "cell_type": "code",
   "execution_count": 9,
   "metadata": {},
   "outputs": [
    {
     "data": {
      "text/plain": [
       "41"
      ]
     },
     "execution_count": 9,
     "metadata": {},
     "output_type": "execute_result"
    }
   ],
   "source": [
    "c.send(b\"gethistorybydate Ag(T+D) 2020-04-15 10:56\")"
   ]
  },
  {
   "cell_type": "code",
   "execution_count": 10,
   "metadata": {},
   "outputs": [],
   "source": [
    "r = c.recv(102400)"
   ]
  },
  {
   "cell_type": "code",
   "execution_count": 11,
   "metadata": {},
   "outputs": [
    {
     "name": "stdout",
     "output_type": "stream",
     "text": [
      "b'{\"result\": \"failed\"}'\n"
     ]
    }
   ],
   "source": [
    "print(r)"
   ]
  },
  {
   "cell_type": "code",
   "execution_count": 12,
   "metadata": {},
   "outputs": [],
   "source": [
    "c.close()"
   ]
  },
  {
   "cell_type": "code",
   "execution_count": 54,
   "metadata": {},
   "outputs": [],
   "source": [
    "def sendMessage(message):\n",
    "    ip = socket.gethostbyname(socket.gethostname())\n",
    "    port = 8001\n",
    "    c = socket.socket(socket.AF_INET, socket.SOCK_STREAM)\n",
    "    c.connect((ip,port))\n",
    "    print(c.recv(1024).decode())\n",
    "    message = message.encode()\n",
    "    c.send(message)\n",
    "    r = c.recv(10240000)\n",
    "    data = json.loads(r)\n",
    "    return data"
   ]
  },
  {
   "cell_type": "code",
   "execution_count": 14,
   "metadata": {},
   "outputs": [
    {
     "name": "stdout",
     "output_type": "stream",
     "text": [
      "this is TradeHelper\n"
     ]
    }
   ],
   "source": [
    "r = sendMessage(\"getdatapool\")"
   ]
  },
  {
   "cell_type": "code",
   "execution_count": 15,
   "metadata": {},
   "outputs": [
    {
     "name": "stdout",
     "output_type": "stream",
     "text": [
      "{'result': 'success', 'data': {'USDtoCNY': [{'name': 'USDtoCNY', 'value': 7.0859, 'valuetype': 'rate', 'date': '2020-04-29', 'time': '23:06:43', 'stamp': 1588172803.806294, 'source': 'http://www.dyhjw.com/index.php?s=/tools/rate&from=USD&to=CNY&fromVal=100'}], 'LondonGold': [{'name': 'LondonGold', 'value': 1701.01, 'valuetype': 'price', 'date': '2020-04-29', 'time': '23:06:43', 'stamp': 1588172803.8302817, 'source': 'http://www.dyhjw.com/index.php?s=/tools/goldprice&from=USD&to=CNY&fromVal=1000&init=1'}], 'AG99.9': [{'name': 'AG99.9', 'value': None, 'valuetype': '最新价格', 'date': '2020-04-29', 'time': '23:06:43', 'stamp': 1588172803.6943626, 'source': None}], 'AG99.99': [{'name': 'AG99.99', 'value': None, 'valuetype': '最新价格', 'date': '2020-04-29', 'time': '23:06:43', 'stamp': 1588172803.6943626, 'source': None}], 'AU100G': [{'name': 'AU100G', 'value': None, 'valuetype': '最新价格', 'date': '2020-04-29', 'time': '23:06:43', 'stamp': 1588172803.6943626, 'source': None}], 'AU99.99': [{'name': 'AU99.99', 'value': 377.45, 'valuetype': '最新价格', 'date': '2020-04-29', 'time': '23:06:43', 'stamp': 1588172803.6943626, 'source': None}], 'AU995': [{'name': 'AU995', 'value': None, 'valuetype': '最新价格', 'date': '2020-04-29', 'time': '23:06:43', 'stamp': 1588172803.6943626, 'source': None}], 'AUTN06': [{'name': 'AUTN06', 'value': 386.9, 'valuetype': '最新价格', 'date': '2020-04-29', 'time': '23:06:43', 'stamp': 1588172803.6943626, 'source': None}], 'AUTN12': [{'name': 'AUTN12', 'value': 387.3, 'valuetype': '最新价格', 'date': '2020-04-29', 'time': '23:06:43', 'stamp': 1588172803.6943626, 'source': None}], 'Ag(T+D)': [{'name': 'Ag(T+D)', 'value': 3662.0, 'valuetype': '最新价格', 'date': '2020-04-29', 'time': '23:06:43', 'stamp': 1588172803.6943626, 'source': None}], 'Ag99.99': [{'name': 'Ag99.99', 'value': None, 'valuetype': '最新价格', 'date': '2020-04-29', 'time': '23:06:43', 'stamp': 1588172803.6943626, 'source': None}], 'Au(T+D)': [{'name': 'Au(T+D)', 'value': 377.22, 'valuetype': '最新价格', 'date': '2020-04-29', 'time': '23:06:43', 'stamp': 1588172803.6943626, 'source': None}], 'Au(T+N1)': [{'name': 'Au(T+N1)', 'value': 376.9, 'valuetype': '最新价格', 'date': '2020-04-29', 'time': '23:06:43', 'stamp': 1588172803.6943626, 'source': None}], 'Au(T+N2)': [{'name': 'Au(T+N2)', 'value': 380.35, 'valuetype': '最新价格', 'date': '2020-04-29', 'time': '23:06:43', 'stamp': 1588172803.6943626, 'source': None}], 'Au100g': [{'name': 'Au100g', 'value': 378.0, 'valuetype': '最新价格', 'date': '2020-04-29', 'time': '23:06:43', 'stamp': 1588172803.6943626, 'source': None}], 'Au50g': [{'name': 'Au50g', 'value': None, 'valuetype': '最新价格', 'date': '2020-04-29', 'time': '23:06:43', 'stamp': 1588172803.6943626, 'source': None}], 'Au99.95': [{'name': 'Au99.95', 'value': None, 'valuetype': '最新价格', 'date': '2020-04-29', 'time': '23:06:43', 'stamp': 1588172803.6943626, 'source': None}], 'Au99.99': [{'name': 'Au99.99', 'value': 377.45, 'valuetype': '最新价格', 'date': '2020-04-29', 'time': '23:06:43', 'stamp': 1588172803.6943626, 'source': None}], 'IAU100G': [{'name': 'IAU100G', 'value': None, 'valuetype': '最新价格', 'date': '2020-04-29', 'time': '23:06:43', 'stamp': 1588172803.6943626, 'source': None}], 'IAU99.5': [{'name': 'IAU99.5', 'value': None, 'valuetype': '最新价格', 'date': '2020-04-29', 'time': '23:06:43', 'stamp': 1588172803.6943626, 'source': None}], 'IAU99.99': [{'name': 'IAU99.99', 'value': None, 'valuetype': '最新价格', 'date': '2020-04-29', 'time': '23:06:43', 'stamp': 1588172803.6943626, 'source': None}], 'MAUTD': [{'name': 'MAUTD', 'value': 377.3, 'valuetype': '最新价格', 'date': '2020-04-29', 'time': '23:06:43', 'stamp': 1588172803.6943626, 'source': None}], 'PGC30G': [{'name': 'PGC30G', 'value': 384.13, 'valuetype': '最新价格', 'date': '2020-04-29', 'time': '23:06:43', 'stamp': 1588172803.6943626, 'source': None}], 'PT99.95': [{'name': 'PT99.95', 'value': None, 'valuetype': '最新价格', 'date': '2020-04-29', 'time': '23:06:43', 'stamp': 1588172803.6943626, 'source': None}], 'Pt99.95': [{'name': 'Pt99.95', 'value': None, 'valuetype': '最新价格', 'date': '2020-04-29', 'time': '23:06:43', 'stamp': 1588172803.6953611, 'source': None}], 'SHAG': [{'name': 'SHAG', 'value': None, 'valuetype': '最新价格', 'date': '2020-04-29', 'time': '23:06:43', 'stamp': 1588172803.6953611, 'source': None}], 'SHAU': [{'name': 'SHAU', 'value': None, 'valuetype': '最新价格', 'date': '2020-04-29', 'time': '23:06:43', 'stamp': 1588172803.6953611, 'source': None}], 'WTI纽约原油': [{'name': 'WTI纽约原油', 'value': 16.456, 'valuetype': '原油价格', 'date': '2020-04-29', 'time': '23:06:43', 'stamp': 1588172803.8832443, 'source': None}], '布伦特原油': [{'name': '布伦特原油', 'value': 24.618, 'valuetype': '原油价格', 'date': '2020-04-29', 'time': '23:06:43', 'stamp': 1588172803.8832443, 'source': None}], '美元指数': [{'name': '美元指数', 'value': '99.6947', 'valuetype': '美元指数', 'date': '2020-04-29', 'time': '23:06:43', 'stamp': 1588172803.825285, 'source': 'https://hq.sinajs.cn/rn=1586835432077list=DINIW'}], 'GoldSliver': [{'name': 'GoldSliver', 'value': 112.23668151080322, 'valuetype': None, 'date': '2020-04-29', 'time': '23:06:46', 'stamp': 1588172806.4236786, 'source': ['https://goldprice.org/gold-silver-ratio.html#gold_price_history', 'https://data-asg.goldprice.org/dbXRates/USD']}], '伦敦银': [{'name': '伦敦银', 'value': 15.15, 'valuetype': '现货白银', 'date': '2020-04-29', 'time': '23:06:43', 'stamp': 1588172805.556214, 'source': 'https://hq.sinajs.cn/?_=1587787457148/&list=hf_XAG'}], '伦敦金': [{'name': '伦敦金', 'value': 1701.47, 'valuetype': '伦敦现货黄金', 'date': '2020-04-29', 'time': '23:06:44', 'stamp': 1588172805.5662067, 'source': 'https://hq.sinajs.cn/?_=1587788206162/&list=hf_XAU'}]}}\n"
     ]
    }
   ],
   "source": [
    "print(r)"
   ]
  },
  {
   "cell_type": "code",
   "execution_count": 20,
   "metadata": {},
   "outputs": [
    {
     "name": "stdout",
     "output_type": "stream",
     "text": [
      "this is TradeHelper\n"
     ]
    }
   ],
   "source": [
    "r = sendMessage(\"shutdown\")"
   ]
  },
  {
   "cell_type": "code",
   "execution_count": 21,
   "metadata": {},
   "outputs": [
    {
     "name": "stdout",
     "output_type": "stream",
     "text": [
      "{'result': 'accept'}\n"
     ]
    }
   ],
   "source": [
    "print(r)"
   ]
  },
  {
   "cell_type": "code",
   "execution_count": 1,
   "metadata": {},
   "outputs": [
    {
     "ename": "NameError",
     "evalue": "name 'sendMessage' is not defined",
     "output_type": "error",
     "traceback": [
      "\u001b[1;31m---------------------------------------------------------------------------\u001b[0m",
      "\u001b[1;31mNameError\u001b[0m                                 Traceback (most recent call last)",
      "\u001b[1;32m<ipython-input-1-a483cb9ee80f>\u001b[0m in \u001b[0;36m<module>\u001b[1;34m\u001b[0m\n\u001b[1;32m----> 1\u001b[1;33m \u001b[0mr\u001b[0m \u001b[1;33m=\u001b[0m \u001b[0msendMessage\u001b[0m\u001b[1;33m(\u001b[0m\u001b[1;34m\"listlast\"\u001b[0m\u001b[1;33m)\u001b[0m\u001b[1;33m\u001b[0m\u001b[1;33m\u001b[0m\u001b[0m\n\u001b[0m",
      "\u001b[1;31mNameError\u001b[0m: name 'sendMessage' is not defined"
     ]
    }
   ],
   "source": [
    "r = sendMessage(\"listlast\")"
   ]
  },
  {
   "cell_type": "code",
   "execution_count": 13,
   "metadata": {},
   "outputs": [],
   "source": [
    "def sendMessageToHost(message,ip,port,recvSize=102400):\n",
    "    c = socket.socket(socket.AF_INET, socket.SOCK_STREAM)\n",
    "    c.connect((ip,port))\n",
    "    print(c.recv(1024).decode())\n",
    "    message = message.encode()\n",
    "    c.send(message)\n",
    "    r = c.recv(recvSize)\n",
    "#     print(r)\n",
    "    data = json.loads(r)\n",
    "    return data"
   ]
  },
  {
   "cell_type": "code",
   "execution_count": 10,
   "metadata": {},
   "outputs": [
    {
     "ename": "TimeoutError",
     "evalue": "[WinError 10060] 由于连接方在一段时间后没有正确答复或连接的主机没有反应，连接尝试失败。",
     "output_type": "error",
     "traceback": [
      "\u001b[1;31m---------------------------------------------------------------------------\u001b[0m",
      "\u001b[1;31mTimeoutError\u001b[0m                              Traceback (most recent call last)",
      "\u001b[1;32m<ipython-input-10-d43660faa69d>\u001b[0m in \u001b[0;36m<module>\u001b[1;34m\u001b[0m\n\u001b[1;32m----> 1\u001b[1;33m \u001b[0mr\u001b[0m \u001b[1;33m=\u001b[0m \u001b[0msendMessageToHost\u001b[0m\u001b[1;33m(\u001b[0m\u001b[1;34m\"listlast\"\u001b[0m\u001b[1;33m,\u001b[0m\u001b[1;34m\"111.230.177.71\"\u001b[0m\u001b[1;33m,\u001b[0m\u001b[1;36m8001\u001b[0m\u001b[1;33m)\u001b[0m\u001b[1;33m\u001b[0m\u001b[1;33m\u001b[0m\u001b[0m\n\u001b[0m",
      "\u001b[1;32m<ipython-input-9-1bf758d50149>\u001b[0m in \u001b[0;36msendMessageToHost\u001b[1;34m(message, ip, port)\u001b[0m\n\u001b[0;32m      1\u001b[0m \u001b[1;32mdef\u001b[0m \u001b[0msendMessageToHost\u001b[0m\u001b[1;33m(\u001b[0m\u001b[0mmessage\u001b[0m\u001b[1;33m,\u001b[0m\u001b[0mip\u001b[0m\u001b[1;33m,\u001b[0m\u001b[0mport\u001b[0m\u001b[1;33m)\u001b[0m\u001b[1;33m:\u001b[0m\u001b[1;33m\u001b[0m\u001b[1;33m\u001b[0m\u001b[0m\n\u001b[0;32m      2\u001b[0m     \u001b[0mc\u001b[0m \u001b[1;33m=\u001b[0m \u001b[0msocket\u001b[0m\u001b[1;33m.\u001b[0m\u001b[0msocket\u001b[0m\u001b[1;33m(\u001b[0m\u001b[0msocket\u001b[0m\u001b[1;33m.\u001b[0m\u001b[0mAF_INET\u001b[0m\u001b[1;33m,\u001b[0m \u001b[0msocket\u001b[0m\u001b[1;33m.\u001b[0m\u001b[0mSOCK_STREAM\u001b[0m\u001b[1;33m)\u001b[0m\u001b[1;33m\u001b[0m\u001b[1;33m\u001b[0m\u001b[0m\n\u001b[1;32m----> 3\u001b[1;33m     \u001b[0mc\u001b[0m\u001b[1;33m.\u001b[0m\u001b[0mconnect\u001b[0m\u001b[1;33m(\u001b[0m\u001b[1;33m(\u001b[0m\u001b[0mip\u001b[0m\u001b[1;33m,\u001b[0m\u001b[0mport\u001b[0m\u001b[1;33m)\u001b[0m\u001b[1;33m)\u001b[0m\u001b[1;33m\u001b[0m\u001b[1;33m\u001b[0m\u001b[0m\n\u001b[0m\u001b[0;32m      4\u001b[0m     \u001b[0mprint\u001b[0m\u001b[1;33m(\u001b[0m\u001b[0mc\u001b[0m\u001b[1;33m.\u001b[0m\u001b[0mrecv\u001b[0m\u001b[1;33m(\u001b[0m\u001b[1;36m1024\u001b[0m\u001b[1;33m)\u001b[0m\u001b[1;33m.\u001b[0m\u001b[0mdecode\u001b[0m\u001b[1;33m(\u001b[0m\u001b[1;33m)\u001b[0m\u001b[1;33m)\u001b[0m\u001b[1;33m\u001b[0m\u001b[1;33m\u001b[0m\u001b[0m\n\u001b[0;32m      5\u001b[0m     \u001b[0mmessage\u001b[0m \u001b[1;33m=\u001b[0m \u001b[0mmessage\u001b[0m\u001b[1;33m.\u001b[0m\u001b[0mencode\u001b[0m\u001b[1;33m(\u001b[0m\u001b[1;33m)\u001b[0m\u001b[1;33m\u001b[0m\u001b[1;33m\u001b[0m\u001b[0m\n",
      "\u001b[1;31mTimeoutError\u001b[0m: [WinError 10060] 由于连接方在一段时间后没有正确答复或连接的主机没有反应，连接尝试失败。"
     ]
    }
   ],
   "source": [
    "r = sendMessageToHost(\"listlast\",\"111.230.177.71\",8001)"
   ]
  },
  {
   "cell_type": "code",
   "execution_count": 18,
   "metadata": {},
   "outputs": [
    {
     "name": "stdout",
     "output_type": "stream",
     "text": [
      "{'result': 'failed', 'info': 'no such file:gethistorylist'}\n"
     ]
    }
   ],
   "source": [
    "print(r)"
   ]
  },
  {
   "cell_type": "code",
   "execution_count": 23,
   "metadata": {},
   "outputs": [
    {
     "name": "stdout",
     "output_type": "stream",
     "text": [
      "this is TradeHelper\n",
      "{'result': 'success', 'info': '', 'data': ['gASVrgEAAAAAAACMD01vdWRsZS5kYXRhVHlwZZSMCERhdGFUeXBllJOUKYGUfZQojARuYW1llIwHQWcoVCtEKZSMBHR5cGWUjAhidWlsdGluc5SMBWZsb2F0lJOUjAV2YWx1ZZRHQKxYAAAAAACMCXZhbHVlVHlwZZSMDOacgOaWsOS7t+agvJSMBGluZm+UfZQojAZ1cGRvd26UR8AqAAAAAAAAjAp1cGRvd25yYXRllIwGLTAuMzYllIwEaGlnaJRHQKyUAAAAAACMA2xvd5RHQKw6AAAAAACMB2xhc3RkYXmUR0CsPgAAAAAAjAV0b2RheZRHQKxwAAAAAACMBGRhdGWUjBMyMDIwLTA0LTI5IDAwOjAwOjEwlIwHb3pwcmljZZRHQC0HslvOQY+MB3ByZW1pdW2UR7/hcF9h1DkAjAtwcmVtaXVtTGluZZRHQC4euFHrhR91jAhkYXRhVGltZZSMCDAwOjAwOjMzlIwIZGF0YURhdGWUjAoyMDIwLTA0LTI5lIwJdGltZVN0YW1wlEdB16oUyELyxYwKZGF0YVNvdXJjZZROjAR1bml0lIwCa2eUdWIu', 'gASVcQEAAAAAAACMD01vdWRsZS5kYXRhVHlwZZSMCERhdGFUeXBllJOUKYGUfZQojARuYW1llIwHQWcoVCtEKZSMBHR5cGWUjAhidWlsdGluc5SMBWZsb2F0lJOUjAV2YWx1ZZRHQKxWAAAAAACMCXZhbHVlVHlwZZSMDOacgOaWsOS7t+agvJSMBGluZm+UfZQojAZ1cGRvd26UR8AoAAAAAAAAjAp1cGRvd25yYXRllIwGLTAuMzMllIwEaGlnaJRHQKyUAAAAAACMA2xvd5RHQKw6AAAAAACMB2xhc3RkYXmUR0CsPgAAAAAAjAV0b2RheZRHQKxwAAAAAACMBGRhdGWUjBMyMDIwLTA0LTI5IDAwOjAxOjEwlHWMCGRhdGFUaW1llIwIMDA6MDE6MzOUjAhkYXRhRGF0ZZSMCjIwMjAtMDQtMjmUjAl0aW1lU3RhbXCUR0HXqhTXS9uEjApkYXRhU291cmNllE6MBHVuaXSUjAJrZ5R1Yi4=', 'gASVbQEAAAAAAACMD01vdWRsZS5kYXRhVHlwZZSMCERhdGFUeXBllJOUKYGUfZQojARuYW1llIwHQWcoVCtEKZSMBHR5cGWUjAhidWlsdGluc5SMBWZsb2F0lJOUjAV2YWx1ZZRHQKxWAAAAAACMCXZhbHVlVHlwZZSMDOacgOaWsOS7t+agvJSMBGluZm+UfZQojAZ1cGRvd26UR8AoAAAAAAAAjAp1cGRvd25yYXRllIwGLTAuMzMllIwEaGlnaJRHQKyUAAAAAACMA2xvd5RHQKw6AAAAAACMB2xhc3RkYXmUR0CsPgAAAAAAjAV0b2RheZRHQKxwAAAAAACMBGRhdGWUjBMyMDIwLTA0LTI5IDAwOjAxOjEwlHWMCGRhdGFUaW1llIwIMDA6MDE6MzGUjAhkYXRhRGF0ZZSMCjIwMjAtMDQtMjmUjAl0aW1lU3RhbXCUR0HXqhTW44wKjApkYXRhU291cmNllE6MBHVuaXSUTnViLg==']}\n"
     ]
    }
   ],
   "source": [
    "r = sendMessage(\"getoriginalbystamp Ag(T+D) 1588089691.5554223\")\n",
    "print(r)"
   ]
  },
  {
   "cell_type": "code",
   "execution_count": 32,
   "metadata": {},
   "outputs": [],
   "source": [
    "def transportForDate():\n",
    "    c = socket.socket(socket.AF_INET, socket.SOCK_STREAM)\n",
    "    ip = socket.gethostbyname(socket.gethostname())\n",
    "    port = 8001\n",
    "    c.connect((ip,port))\n",
    "    print(c.recv(1024).decode())\n",
    "    c.send(b\"transport Ag(T+D) 2020-04-28\")\n",
    "    result = []\n",
    "    while(True):\n",
    "        r = c.recv(102400)\n",
    "        data = json.loads(r.decode())\n",
    "        if data[\"num\"]<0:\n",
    "            break\n",
    "        else:\n",
    "            result.append(data)\n",
    "            c.send(b\"get\")\n",
    "    return result"
   ]
  },
  {
   "cell_type": "code",
   "execution_count": 45,
   "metadata": {},
   "outputs": [
    {
     "name": "stdout",
     "output_type": "stream",
     "text": [
      "this is TradeHelper\n"
     ]
    }
   ],
   "source": [
    "AGHistory = transportForDate()"
   ]
  },
  {
   "cell_type": "code",
   "execution_count": null,
   "metadata": {},
   "outputs": [],
   "source": []
  },
  {
   "cell_type": "code",
   "execution_count": 46,
   "metadata": {},
   "outputs": [
    {
     "name": "stdout",
     "output_type": "stream",
     "text": [
      "{'data': '{\"stamp\": 1588003371.7637193, \"date\": \"2020-04-28\", \"time\": \"00:02:51\", \"value\": 3676.0, \"name\": \"Ag(T+D)\", \"data\": \"gASVcQEAAAAAAACMD01vdWRsZS5kYXRhVHlwZZSMCERhdGFUeXBllJOUKYGUfZQojARuYW1llIwHQWcoVCtEKZSMBHR5cGWUjAhidWlsdGluc5SMBWZsb2F0lJOUjAV2YWx1ZZRHQKy4AAAAAACMCXZhbHVlVHlwZZSMDOacgOaWsOS7t+agvJSMBGluZm+UfZQojAZ1cGRvd26UR0AkAAAAAAAAjAp1cGRvd25yYXRllIwGLTAuMjcllIwEaGlnaJRHQKziAAAAAACMA2xvd5RHQKyYAAAAAACMB2xhc3RkYXmUR0CszAAAAAAAjAV0b2RheZRHQKzOAAAAAACMBGRhdGWUjBMyMDIwLTA0LTI4IDAwOjAyOjM5lHWMCGRhdGFUaW1llIwIMDA6MDI6NTGUjAhkYXRhRGF0ZZSMCjIwMjAtMDQtMjiUjAl0aW1lU3RhbXCUR0HXqcCK8ODHjApkYXRhU291cmNllE6MBHVuaXSUjAJrZ5R1Yi4=\"}', 'num': 0, 'name': 'Ag(T+D)', 'date': '2020-04-28'}\n"
     ]
    }
   ],
   "source": [
    "print(AGHistory[2])"
   ]
  },
  {
   "cell_type": "code",
   "execution_count": 47,
   "metadata": {},
   "outputs": [],
   "source": [
    "def transportHistory():\n",
    "    c = socket.socket(socket.AF_INET, socket.SOCK_STREAM)\n",
    "    ip = socket.gethostbyname(socket.gethostname())\n",
    "    port = 8001\n",
    "    c.connect((ip,port))\n",
    "    print(c.recv(1024).decode())\n",
    "    c.send(b\"transport Ag(T+D)\")\n",
    "    result = []\n",
    "    while(True):\n",
    "        r = c.recv(102400)\n",
    "        data = json.loads(r.decode())\n",
    "        if data[\"num\"]<0:\n",
    "            break\n",
    "        else:\n",
    "            result.append(data)\n",
    "            c.send(b\"get\")\n",
    "    return result"
   ]
  },
  {
   "cell_type": "code",
   "execution_count": 48,
   "metadata": {},
   "outputs": [
    {
     "name": "stdout",
     "output_type": "stream",
     "text": [
      "2855\n"
     ]
    }
   ],
   "source": [
    "print(len(AGHistory))"
   ]
  },
  {
   "cell_type": "code",
   "execution_count": 49,
   "metadata": {},
   "outputs": [
    {
     "name": "stdout",
     "output_type": "stream",
     "text": [
      "this is TradeHelper\n"
     ]
    }
   ],
   "source": [
    "agH = transportHistory()"
   ]
  },
  {
   "cell_type": "code",
   "execution_count": 50,
   "metadata": {},
   "outputs": [
    {
     "name": "stdout",
     "output_type": "stream",
     "text": [
      "22089\n"
     ]
    }
   ],
   "source": [
    "print(len(agH))"
   ]
  },
  {
   "cell_type": "code",
   "execution_count": 51,
   "metadata": {},
   "outputs": [
    {
     "name": "stdout",
     "output_type": "stream",
     "text": [
      "{'data': '{\"stamp\": 1586962821.691904, \"date\": \"2020-04-15\", \"time\": \"23:00:21\", \"value\": 3733.0, \"name\": \"Ag(T+D)\", \"data\": \"gASVbQEAAAAAAACMD01vdWRsZS5kYXRhVHlwZZSMCERhdGFUeXBllJOUKYGUfZQojARuYW1llIwHQWcoVCtEKZSMBHR5cGWUjAhidWlsdGluc5SMBWZsb2F0lJOUjAV2YWx1ZZRHQK0qAAAAAACMCXZhbHVlVHlwZZSMDOacgOaWsOS7t+agvJSMBGluZm+UfZQojAZ1cGRvd26UR8AUAAAAAAAAjAp1cGRvd25yYXRllIwGLTAuMTMllIwEaGlnaJRHQK1SAAAAAACMA2xvd5RHQKz4AAAAAACMB2xhc3RkYXmUR0CtIAAAAAAAjAV0b2RheZRHQK1OAAAAAACMBGRhdGWUjBMyMDIwLTA0LTE1IDIzOjAwOjA3lHWMCGRhdGFUaW1llIwIMjM6MDA6MjGUjAhkYXRhRGF0ZZSMCjIwMjAtMDQtMTWUjAl0aW1lU3RhbXCUR0HXpchhbEgojApkYXRhU291cmNllE6MBHVuaXSUTnViLg==\"}', 'num': 0, 'name': 'Ag(T+D) 2020_04_15.tbs', 'date': None}\n"
     ]
    }
   ],
   "source": [
    "print(agH[2])"
   ]
  },
  {
   "cell_type": "code",
   "execution_count": 55,
   "metadata": {},
   "outputs": [
    {
     "name": "stdout",
     "output_type": "stream",
     "text": [
      "this is TradeHelper\n"
     ]
    }
   ],
   "source": [
    "r = sendMessage(\"getstamp Ag(T+D)\")"
   ]
  },
  {
   "cell_type": "code",
   "execution_count": 57,
   "metadata": {},
   "outputs": [
    {
     "data": {
      "text/plain": [
       "22209"
      ]
     },
     "execution_count": 57,
     "metadata": {},
     "output_type": "execute_result"
    }
   ],
   "source": [
    "len(r[\"stamp\"])"
   ]
  },
  {
   "cell_type": "code",
   "execution_count": 82,
   "metadata": {},
   "outputs": [
    {
     "name": "stdout",
     "output_type": "stream",
     "text": [
      "this is TradeHelper\n"
     ]
    }
   ],
   "source": [
    "r = sendMessage(\"gethistorydatabydate Ag(T+D) 2020-04-28 11:34\")"
   ]
  },
  {
   "cell_type": "code",
   "execution_count": 83,
   "metadata": {},
   "outputs": [
    {
     "name": "stdout",
     "output_type": "stream",
     "text": [
      "{'result': 'success', 'info': '获取数据成功', 'data': ['gASVcQEAAAAAAACMD01vdWRsZS5kYXRhVHlwZZSMCERhdGFUeXBllJOUKYGUfZQojARuYW1llIwHQWcoVCtEKZSMBHR5cGWUjAhidWlsdGluc5SMBWZsb2F0lJOUjAV2YWx1ZZRHQKxiAAAAAACMCXZhbHVlVHlwZZSMDOacgOaWsOS7t+agvJSMBGluZm+UfZQojAZ1cGRvd26UR0BKgAAAAAAAjAp1cGRvd25yYXRllIwGLTEuNDQllIwEaGlnaJRHQKziAAAAAACMA2xvd5RHQKxOAAAAAACMB2xhc3RkYXmUR0CszAAAAAAAjAV0b2RheZRHQKzOAAAAAACMBGRhdGWUjBMyMDIwLTA0LTI4IDExOjMzOjA0lHWMCGRhdGFUaW1llIwIMTE6MzM6MTCUjAhkYXRhRGF0ZZSMCjIwMjAtMDQtMjiUjAl0aW1lU3RhbXCUR0HXqej9qEr+jApkYXRhU291cmNllE6MBHVuaXSUjAJrZ5R1Yi4=', 'gASVcQEAAAAAAACMD01vdWRsZS5kYXRhVHlwZZSMCERhdGFUeXBllJOUKYGUfZQojARuYW1llIwHQWcoVCtEKZSMBHR5cGWUjAhidWlsdGluc5SMBWZsb2F0lJOUjAV2YWx1ZZRHQKxiAAAAAACMCXZhbHVlVHlwZZSMDOacgOaWsOS7t+agvJSMBGluZm+UfZQojAZ1cGRvd26UR0BKgAAAAAAAjAp1cGRvd25yYXRllIwGLTEuNDQllIwEaGlnaJRHQKziAAAAAACMA2xvd5RHQKxOAAAAAACMB2xhc3RkYXmUR0CszAAAAAAAjAV0b2RheZRHQKzOAAAAAACMBGRhdGWUjBMyMDIwLTA0LTI4IDExOjM0OjA1lHWMCGRhdGFUaW1llIwIMTE6MzQ6MTGUjAhkYXRhRGF0ZZSMCjIwMjAtMDQtMjiUjAl0aW1lU3RhbXCUR0HXqekM4HRDjApkYXRhU291cmNllE6MBHVuaXSUjAJrZ5R1Yi4=', 'gASVbQEAAAAAAACMD01vdWRsZS5kYXRhVHlwZZSMCERhdGFUeXBllJOUKYGUfZQojARuYW1llIwHQWcoVCtEKZSMBHR5cGWUjAhidWlsdGluc5SMBWZsb2F0lJOUjAV2YWx1ZZRHQKxiAAAAAACMCXZhbHVlVHlwZZSMDOacgOaWsOS7t+agvJSMBGluZm+UfZQojAZ1cGRvd26UR0BKgAAAAAAAjAp1cGRvd25yYXRllIwGLTEuNDQllIwEaGlnaJRHQKziAAAAAACMA2xvd5RHQKxOAAAAAACMB2xhc3RkYXmUR0CszAAAAAAAjAV0b2RheZRHQKzOAAAAAACMBGRhdGWUjBMyMDIwLTA0LTI4IDExOjMzOjA0lHWMCGRhdGFUaW1llIwIMTE6MzM6MzOUjAhkYXRhRGF0ZZSMCjIwMjAtMDQtMjiUjAl0aW1lU3RhbXCUR0HXqekDYmQpjApkYXRhU291cmNllE6MBHVuaXSUTnViLg==', 'gASVbQEAAAAAAACMD01vdWRsZS5kYXRhVHlwZZSMCERhdGFUeXBllJOUKYGUfZQojARuYW1llIwHQWcoVCtEKZSMBHR5cGWUjAhidWlsdGluc5SMBWZsb2F0lJOUjAV2YWx1ZZRHQKxiAAAAAACMCXZhbHVlVHlwZZSMDOacgOaWsOS7t+agvJSMBGluZm+UfZQojAZ1cGRvd26UR0BKgAAAAAAAjAp1cGRvd25yYXRllIwGLTEuNDQllIwEaGlnaJRHQKziAAAAAACMA2xvd5RHQKxOAAAAAACMB2xhc3RkYXmUR0CszAAAAAAAjAV0b2RheZRHQKzOAAAAAACMBGRhdGWUjBMyMDIwLTA0LTI4IDExOjM0OjA1lHWMCGRhdGFUaW1llIwIMTE6MzQ6MzOUjAhkYXRhRGF0ZZSMCjIwMjAtMDQtMjiUjAl0aW1lU3RhbXCUR0HXqekSfRsIjApkYXRhU291cmNllE6MBHVuaXSUTnViLg==']}\n"
     ]
    }
   ],
   "source": [
    "print(r)"
   ]
  },
  {
   "cell_type": "code",
   "execution_count": 17,
   "metadata": {},
   "outputs": [
    {
     "name": "stdout",
     "output_type": "stream",
     "text": [
      "this is TradeHelper\n"
     ]
    },
    {
     "ename": "JSONDecodeError",
     "evalue": "Expecting ',' delimiter: line 1 column 78101 (char 78100)",
     "output_type": "error",
     "traceback": [
      "\u001b[1;31m---------------------------------------------------------------------------\u001b[0m",
      "\u001b[1;31mJSONDecodeError\u001b[0m                           Traceback (most recent call last)",
      "\u001b[1;32m<ipython-input-17-16f9f76fd5b9>\u001b[0m in \u001b[0;36m<module>\u001b[1;34m\u001b[0m\n\u001b[1;32m----> 1\u001b[1;33m \u001b[0mr\u001b[0m \u001b[1;33m=\u001b[0m \u001b[0msendMessageToHost\u001b[0m\u001b[1;33m(\u001b[0m\u001b[1;34m\"getstamp Ag(T+D)\"\u001b[0m\u001b[1;33m,\u001b[0m\u001b[1;34m\"111.230.177.71\"\u001b[0m\u001b[1;33m,\u001b[0m\u001b[1;36m8001\u001b[0m\u001b[1;33m,\u001b[0m\u001b[1;36m10240000000\u001b[0m\u001b[1;33m)\u001b[0m\u001b[1;33m\u001b[0m\u001b[1;33m\u001b[0m\u001b[0m\n\u001b[0m",
      "\u001b[1;32m<ipython-input-13-3a62f037abea>\u001b[0m in \u001b[0;36msendMessageToHost\u001b[1;34m(message, ip, port, recvSize)\u001b[0m\n\u001b[0;32m      7\u001b[0m     \u001b[0mr\u001b[0m \u001b[1;33m=\u001b[0m \u001b[0mc\u001b[0m\u001b[1;33m.\u001b[0m\u001b[0mrecv\u001b[0m\u001b[1;33m(\u001b[0m\u001b[0mrecvSize\u001b[0m\u001b[1;33m)\u001b[0m\u001b[1;33m\u001b[0m\u001b[1;33m\u001b[0m\u001b[0m\n\u001b[0;32m      8\u001b[0m \u001b[1;31m#     print(r)\u001b[0m\u001b[1;33m\u001b[0m\u001b[1;33m\u001b[0m\u001b[1;33m\u001b[0m\u001b[0m\n\u001b[1;32m----> 9\u001b[1;33m     \u001b[0mdata\u001b[0m \u001b[1;33m=\u001b[0m \u001b[0mjson\u001b[0m\u001b[1;33m.\u001b[0m\u001b[0mloads\u001b[0m\u001b[1;33m(\u001b[0m\u001b[0mr\u001b[0m\u001b[1;33m)\u001b[0m\u001b[1;33m\u001b[0m\u001b[1;33m\u001b[0m\u001b[0m\n\u001b[0m\u001b[0;32m     10\u001b[0m     \u001b[1;32mreturn\u001b[0m \u001b[0mdata\u001b[0m\u001b[1;33m\u001b[0m\u001b[1;33m\u001b[0m\u001b[0m\n",
      "\u001b[1;32me:\\python37\\lib\\json\\__init__.py\u001b[0m in \u001b[0;36mloads\u001b[1;34m(s, encoding, cls, object_hook, parse_float, parse_int, parse_constant, object_pairs_hook, **kw)\u001b[0m\n\u001b[0;32m    346\u001b[0m             \u001b[0mparse_int\u001b[0m \u001b[1;32mis\u001b[0m \u001b[1;32mNone\u001b[0m \u001b[1;32mand\u001b[0m \u001b[0mparse_float\u001b[0m \u001b[1;32mis\u001b[0m \u001b[1;32mNone\u001b[0m \u001b[1;32mand\u001b[0m\u001b[1;33m\u001b[0m\u001b[1;33m\u001b[0m\u001b[0m\n\u001b[0;32m    347\u001b[0m             parse_constant is None and object_pairs_hook is None and not kw):\n\u001b[1;32m--> 348\u001b[1;33m         \u001b[1;32mreturn\u001b[0m \u001b[0m_default_decoder\u001b[0m\u001b[1;33m.\u001b[0m\u001b[0mdecode\u001b[0m\u001b[1;33m(\u001b[0m\u001b[0ms\u001b[0m\u001b[1;33m)\u001b[0m\u001b[1;33m\u001b[0m\u001b[1;33m\u001b[0m\u001b[0m\n\u001b[0m\u001b[0;32m    349\u001b[0m     \u001b[1;32mif\u001b[0m \u001b[0mcls\u001b[0m \u001b[1;32mis\u001b[0m \u001b[1;32mNone\u001b[0m\u001b[1;33m:\u001b[0m\u001b[1;33m\u001b[0m\u001b[1;33m\u001b[0m\u001b[0m\n\u001b[0;32m    350\u001b[0m         \u001b[0mcls\u001b[0m \u001b[1;33m=\u001b[0m \u001b[0mJSONDecoder\u001b[0m\u001b[1;33m\u001b[0m\u001b[1;33m\u001b[0m\u001b[0m\n",
      "\u001b[1;32me:\\python37\\lib\\json\\decoder.py\u001b[0m in \u001b[0;36mdecode\u001b[1;34m(self, s, _w)\u001b[0m\n\u001b[0;32m    335\u001b[0m \u001b[1;33m\u001b[0m\u001b[0m\n\u001b[0;32m    336\u001b[0m         \"\"\"\n\u001b[1;32m--> 337\u001b[1;33m         \u001b[0mobj\u001b[0m\u001b[1;33m,\u001b[0m \u001b[0mend\u001b[0m \u001b[1;33m=\u001b[0m \u001b[0mself\u001b[0m\u001b[1;33m.\u001b[0m\u001b[0mraw_decode\u001b[0m\u001b[1;33m(\u001b[0m\u001b[0ms\u001b[0m\u001b[1;33m,\u001b[0m \u001b[0midx\u001b[0m\u001b[1;33m=\u001b[0m\u001b[0m_w\u001b[0m\u001b[1;33m(\u001b[0m\u001b[0ms\u001b[0m\u001b[1;33m,\u001b[0m \u001b[1;36m0\u001b[0m\u001b[1;33m)\u001b[0m\u001b[1;33m.\u001b[0m\u001b[0mend\u001b[0m\u001b[1;33m(\u001b[0m\u001b[1;33m)\u001b[0m\u001b[1;33m)\u001b[0m\u001b[1;33m\u001b[0m\u001b[1;33m\u001b[0m\u001b[0m\n\u001b[0m\u001b[0;32m    338\u001b[0m         \u001b[0mend\u001b[0m \u001b[1;33m=\u001b[0m \u001b[0m_w\u001b[0m\u001b[1;33m(\u001b[0m\u001b[0ms\u001b[0m\u001b[1;33m,\u001b[0m \u001b[0mend\u001b[0m\u001b[1;33m)\u001b[0m\u001b[1;33m.\u001b[0m\u001b[0mend\u001b[0m\u001b[1;33m(\u001b[0m\u001b[1;33m)\u001b[0m\u001b[1;33m\u001b[0m\u001b[1;33m\u001b[0m\u001b[0m\n\u001b[0;32m    339\u001b[0m         \u001b[1;32mif\u001b[0m \u001b[0mend\u001b[0m \u001b[1;33m!=\u001b[0m \u001b[0mlen\u001b[0m\u001b[1;33m(\u001b[0m\u001b[0ms\u001b[0m\u001b[1;33m)\u001b[0m\u001b[1;33m:\u001b[0m\u001b[1;33m\u001b[0m\u001b[1;33m\u001b[0m\u001b[0m\n",
      "\u001b[1;32me:\\python37\\lib\\json\\decoder.py\u001b[0m in \u001b[0;36mraw_decode\u001b[1;34m(self, s, idx)\u001b[0m\n\u001b[0;32m    351\u001b[0m         \"\"\"\n\u001b[0;32m    352\u001b[0m         \u001b[1;32mtry\u001b[0m\u001b[1;33m:\u001b[0m\u001b[1;33m\u001b[0m\u001b[1;33m\u001b[0m\u001b[0m\n\u001b[1;32m--> 353\u001b[1;33m             \u001b[0mobj\u001b[0m\u001b[1;33m,\u001b[0m \u001b[0mend\u001b[0m \u001b[1;33m=\u001b[0m \u001b[0mself\u001b[0m\u001b[1;33m.\u001b[0m\u001b[0mscan_once\u001b[0m\u001b[1;33m(\u001b[0m\u001b[0ms\u001b[0m\u001b[1;33m,\u001b[0m \u001b[0midx\u001b[0m\u001b[1;33m)\u001b[0m\u001b[1;33m\u001b[0m\u001b[1;33m\u001b[0m\u001b[0m\n\u001b[0m\u001b[0;32m    354\u001b[0m         \u001b[1;32mexcept\u001b[0m \u001b[0mStopIteration\u001b[0m \u001b[1;32mas\u001b[0m \u001b[0merr\u001b[0m\u001b[1;33m:\u001b[0m\u001b[1;33m\u001b[0m\u001b[1;33m\u001b[0m\u001b[0m\n\u001b[0;32m    355\u001b[0m             \u001b[1;32mraise\u001b[0m \u001b[0mJSONDecodeError\u001b[0m\u001b[1;33m(\u001b[0m\u001b[1;34m\"Expecting value\"\u001b[0m\u001b[1;33m,\u001b[0m \u001b[0ms\u001b[0m\u001b[1;33m,\u001b[0m \u001b[0merr\u001b[0m\u001b[1;33m.\u001b[0m\u001b[0mvalue\u001b[0m\u001b[1;33m)\u001b[0m \u001b[1;32mfrom\u001b[0m \u001b[1;32mNone\u001b[0m\u001b[1;33m\u001b[0m\u001b[1;33m\u001b[0m\u001b[0m\n",
      "\u001b[1;31mJSONDecodeError\u001b[0m: Expecting ',' delimiter: line 1 column 78101 (char 78100)"
     ]
    }
   ],
   "source": [
    "r = sendMessageToHost(\"getstamp Ag(T+D)\",\"111.230.177.71\",8001,10240000000)"
   ]
  },
  {
   "cell_type": "code",
   "execution_count": null,
   "metadata": {},
   "outputs": [],
   "source": []
  }
 ],
 "metadata": {
  "kernelspec": {
   "display_name": "Python 3",
   "language": "python",
   "name": "python3"
  },
  "language_info": {
   "codemirror_mode": {
    "name": "ipython",
    "version": 3
   },
   "file_extension": ".py",
   "mimetype": "text/x-python",
   "name": "python",
   "nbconvert_exporter": "python",
   "pygments_lexer": "ipython3",
   "version": "3.7.3"
  }
 },
 "nbformat": 4,
 "nbformat_minor": 2
}
